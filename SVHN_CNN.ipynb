{
 "cells": [
  {
   "cell_type": "markdown",
   "id": "6d2907f4",
   "metadata": {},
   "source": [
    "# SVHN Digit Classification Using a CNN \n",
    "---\n",
    "**student ID'S**: UP2127137, UP2119254\n",
    "\n",
    "**Dataset**: SVHN (Street View House Numbers)\n",
    "\n",
    "**Main Objectives**: Classifing digits from (0-9) from a 32 x 32RGB image using a loaded CNN Model. \n",
    "\n",
    "---"
   ]
  },
  {
   "cell_type": "markdown",
   "id": "8ac605c5",
   "metadata": {},
   "source": []
  },
  {
   "cell_type": "code",
   "execution_count": 5,
   "id": "77903dc8",
   "metadata": {},
   "outputs": [],
   "source": [
    "import os\n",
    "import urllib.request"
   ]
  },
  {
   "cell_type": "code",
   "execution_count": 6,
   "id": "a1b6e79e",
   "metadata": {},
   "outputs": [],
   "source": [
    "# Creating a folder for the data to be handled\n",
    "os.makedirs(\"data\", exist_ok= True)"
   ]
  },
  {
   "cell_type": "code",
   "execution_count": 7,
   "id": "a676c70e",
   "metadata": {},
   "outputs": [],
   "source": [
    "# Defining the URLs for training and testing the data\n",
    "urls = {\n",
    "    \"train\":\"http://ufldl.stanford.edu/housenumbers/train_32x32.mat\",\n",
    "    \"test\":\"http://ufldl.stanford.edu/housenumbers/test_32x32.mat\"\n",
    "}"
   ]
  },
  {
   "cell_type": "code",
   "execution_count": 8,
   "id": "56df11de",
   "metadata": {},
   "outputs": [
    {
     "name": "stdout",
     "output_type": "stream",
     "text": [
      "Train data already exists.\n",
      "Test data already exists.\n"
     ]
    }
   ],
   "source": [
    "# Downloading functions\n",
    "def download_svhn():\n",
    "    for name, url in urls.items():\n",
    "        filepath = f\"data/{name}_32x32.mat\"\n",
    "        if not os.path.exists(filepath):\n",
    "            print(f\"downloading {name}data...\")\n",
    "            urllib.request.urlretrieve(url,filepath)\n",
    "            print(f\"{name.capitalize()}data download sucessfully.\")\n",
    "        else:\n",
    "            print(f\"{name.capitalize()} data already exists.\")\n",
    "\n",
    "download_svhn()\n",
    "\n"
   ]
  },
  {
   "cell_type": "markdown",
   "id": "349eda99",
   "metadata": {},
   "source": [
    " ## Step - (1): Data Collection Downloaded from Urls on the SVHN Website\n",
    "\n",
    " Using the SVHN dataset the .mat files for training and testing were correctly downloaded, the files being curently in MATLAB format hence the (.mat). Files are only being downloaded once to save time and bandwidth, \n",
    " the files contain over 600,000 labled 32x32 pixle RGB images of digits 0-9 provided on Google Streetview.\n",
    " "
   ]
  },
  {
   "cell_type": "markdown",
   "id": "bc65d7d9",
   "metadata": {},
   "source": []
  },
  {
   "cell_type": "code",
   "execution_count": 2,
   "id": "88b5910f",
   "metadata": {},
   "outputs": [
    {
     "name": "stdout",
     "output_type": "stream",
     "text": [
      "test git repo\n"
     ]
    }
   ],
   "source": [
    "print(\"test git repo\")"
   ]
  },
  {
   "cell_type": "code",
   "execution_count": null,
   "id": "e596dd62",
   "metadata": {},
   "outputs": [],
   "source": []
  }
 ],
 "metadata": {
  "kernelspec": {
   "display_name": "Python 3",
   "language": "python",
   "name": "python3"
  },
  "language_info": {
   "codemirror_mode": {
    "name": "ipython",
    "version": 3
   },
   "file_extension": ".py",
   "mimetype": "text/x-python",
   "name": "python",
   "nbconvert_exporter": "python",
   "pygments_lexer": "ipython3",
   "version": "3.12.1"
  }
 },
 "nbformat": 4,
 "nbformat_minor": 5
}
