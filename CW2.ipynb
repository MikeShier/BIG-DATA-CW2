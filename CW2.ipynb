{
 "cells": [
  {
   "cell_type": "markdown",
   "id": "6d2907f4",
   "metadata": {},
   "source": [
    "# BIG DATA CW2 - SVHN Digit Classification Using a CNN \n",
    "---\n",
    "**student ID'S**: Mike Shier **(UP2127137)**, Jack Elliott **(UP2119254)** and \n",
    "\n",
    "**Dataset**: SVHN (Street View House Numbers)\n",
    "\n",
    "**Main Objectives**: Classifing digits from (0-9) from a 32 x 32RGB image using a loaded CNN Model. \n",
    "\n",
    "---"
   ]
  },
  {
   "cell_type": "markdown",
   "id": "8ac605c5",
   "metadata": {},
   "source": [
    " ## Step - (1): Data Collection Downloaded from Urls on the SVHN Website\n",
    "\n",
    " Using the SVHN dataset the .mat files for training and testing were correctly downloaded, the files being curently in MATLAB format hence the (.mat). Files are only being downloaded once to save time and bandwidth, \n",
    " the files contain over 600,000 labled 32x32 pixle RGB images of digits 0-9 provided on Google Streetview."
   ]
  },
  {
   "cell_type": "code",
   "execution_count": null,
   "id": "77903dc8",
   "metadata": {},
   "outputs": [],
   "source": [
    "import os\n",
    "import urllib.request"
   ]
  },
  {
   "cell_type": "code",
   "execution_count": null,
   "id": "a1b6e79e",
   "metadata": {},
   "outputs": [],
   "source": [
    "# Creating a folder for the data to be handled\n",
    "os.makedirs(\"data\", exist_ok= True)"
   ]
  },
  {
   "cell_type": "code",
   "execution_count": null,
   "id": "a676c70e",
   "metadata": {},
   "outputs": [],
   "source": [
    "# Defining the URLs for training and testing the data\n",
    "urls = {\n",
    "    \"train\":\"http://ufldl.stanford.edu/housenumbers/train_32x32.mat\",\n",
    "    \"test\":\"http://ufldl.stanford.edu/housenumbers/test_32x32.mat\",\n",
    "    \"extra\":\"http://ufldl.stanford.edu/housenumbers/extra_32x32.mat\"\n",
    "}"
   ]
  },
  {
   "cell_type": "code",
   "execution_count": null,
   "id": "56df11de",
   "metadata": {},
   "outputs": [],
   "source": [
    "# Downloading functions\n",
    "def download_svhn():\n",
    "    for name, url in urls.items():\n",
    "        filepath = f\"data/{name}_32x32.mat\"\n",
    "        if not os.path.exists(filepath):\n",
    "            print(f\"downloading {name}data...\")\n",
    "            urllib.request.urlretrieve(url,filepath)\n",
    "            print(f\"{name.capitalize()}data download sucessfully.\")\n",
    "        else:\n",
    "            print(f\"{name.capitalize()} data already exists.\")\n",
    "\n",
    "download_svhn()\n",
    "\n"
   ]
  },
  {
   "cell_type": "markdown",
   "id": "349eda99",
   "metadata": {},
   "source": [
    "# Step - (2): Preprocess the SVHN Dataset\n",
    "\n",
    "This loads the .mat files downloaded in step 1 and converts the data presented into the correct format, normalizing the pixel values to [0, 1], fixing the label format to (10-0), and correctly splits the training set into 80% training and 20% validation using satisfied sampeling.  \n",
    " "
   ]
  },
  {
   "cell_type": "code",
   "execution_count": 1,
   "id": "88b5910f",
   "metadata": {},
   "outputs": [
    {
     "name": "stderr",
     "output_type": "stream",
     "text": [
      "2025-05-26 23:04:55.909632: I tensorflow/core/util/port.cc:153] oneDNN custom operations are on. You may see slightly different numerical results due to floating-point round-off errors from different computation orders. To turn them off, set the environment variable `TF_ENABLE_ONEDNN_OPTS=0`.\n",
      "2025-05-26 23:04:55.927350: I external/local_xla/xla/tsl/cuda/cudart_stub.cc:32] Could not find cuda drivers on your machine, GPU will not be used.\n",
      "2025-05-26 23:04:56.162149: I external/local_xla/xla/tsl/cuda/cudart_stub.cc:32] Could not find cuda drivers on your machine, GPU will not be used.\n",
      "2025-05-26 23:04:56.299478: E external/local_xla/xla/stream_executor/cuda/cuda_fft.cc:467] Unable to register cuFFT factory: Attempting to register factory for plugin cuFFT when one has already been registered\n",
      "WARNING: All log messages before absl::InitializeLog() is called are written to STDERR\n",
      "E0000 00:00:1748300696.643599   75443 cuda_dnn.cc:8579] Unable to register cuDNN factory: Attempting to register factory for plugin cuDNN when one has already been registered\n",
      "E0000 00:00:1748300696.712728   75443 cuda_blas.cc:1407] Unable to register cuBLAS factory: Attempting to register factory for plugin cuBLAS when one has already been registered\n",
      "W0000 00:00:1748300697.377141   75443 computation_placer.cc:177] computation placer already registered. Please check linkage and avoid linking the same target more than once.\n",
      "W0000 00:00:1748300697.377179   75443 computation_placer.cc:177] computation placer already registered. Please check linkage and avoid linking the same target more than once.\n",
      "W0000 00:00:1748300697.377182   75443 computation_placer.cc:177] computation placer already registered. Please check linkage and avoid linking the same target more than once.\n",
      "W0000 00:00:1748300697.377184   75443 computation_placer.cc:177] computation placer already registered. Please check linkage and avoid linking the same target more than once.\n",
      "2025-05-26 23:04:57.405756: I tensorflow/core/platform/cpu_feature_guard.cc:210] This TensorFlow binary is optimized to use available CPU instructions in performance-critical operations.\n",
      "To enable the following instructions: AVX2 AVX512F AVX512_VNNI FMA, in other operations, rebuild TensorFlow with the appropriate compiler flags.\n"
     ]
    }
   ],
   "source": [
    "import scipy.io\n",
    "import numpy as np\n",
    "from sklearn.model_selection import train_test_split\n",
    "import matplotlib.pyplot as plt\n",
    "from tensorflow.keras.utils import to_categorical"
   ]
  },
  {
   "cell_type": "code",
   "execution_count": 2,
   "id": "e596dd62",
   "metadata": {},
   "outputs": [],
   "source": [
    "# Loading the data \n",
    "train_data = scipy.io.loadmat(\"data/train_32x32.mat\")\n",
    "test_data = scipy.io.loadmat(\"data/test_32x32.mat\")\n",
    "extra_data = scipy.io.loadmat(\"data/extra_32x32.mat\")"
   ]
  },
  {
   "cell_type": "code",
   "execution_count": 3,
   "id": "2e105cf7",
   "metadata": {},
   "outputs": [],
   "source": [
    "X_extra_raw = extra_data['X'][:, :, :, :100000]\n",
    "y_extra = extra_data['y'].flatten()[:100000]"
   ]
  },
  {
   "cell_type": "code",
   "execution_count": 4,
   "id": "99edf7fe",
   "metadata": {},
   "outputs": [],
   "source": [
    "# Transposing image arrays to the correct shape: e.g.(32,32,3)\n",
    "X_train = np.transpose(train_data['X'], (3, 0, 1, 2))\n",
    "X_extra = np.transpose(X_extra_raw, (3, 0, 1, 2)) \n",
    "y_train = train_data['y'].flatten()\n",
    "\n",
    "\n",
    "X_test = np.transpose(test_data['X'], (3, 0, 1, 2))\n",
    "y_test = train_data['y'].flatten()\n"
   ]
  },
  {
   "cell_type": "code",
   "execution_count": 5,
   "id": "864936a2",
   "metadata": {},
   "outputs": [],
   "source": [
    "# Replace Label '10' with '0'\n",
    "y_train[y_train == 10] = 0\n",
    "y_test[y_test == 10] = 0\n",
    "y_extra[y_extra == 10] = 0\n"
   ]
  },
  {
   "cell_type": "code",
   "execution_count": 6,
   "id": "10a3898e",
   "metadata": {},
   "outputs": [
    {
     "ename": "",
     "evalue": "",
     "output_type": "error",
     "traceback": [
      "\u001b[1;31mThe Kernel crashed while executing code in the current cell or a previous cell. \n",
      "\u001b[1;31mPlease review the code in the cell(s) to identify a possible cause of the failure. \n",
      "\u001b[1;31mClick <a href='https://aka.ms/vscodeJupyterKernelCrash'>here</a> for more info. \n",
      "\u001b[1;31mView Jupyter <a href='command:jupyter.viewOutput'>log</a> for further details."
     ]
    }
   ],
   "source": [
    "X_train = X_train.astype('float32') / 255.0\n",
    "X_test = X_test.astype('float32') / 255.0\n",
    "X_extra = X_extra.astype('float32') / 255.0\n",
    "\n",
    "np.save(\"data/X_extra_100k.npy\", X_extra)\n",
    "np.save(\"data/y_extra_100k.npy\", y_extra)\n",
    "\n",
    "print(\"Saved sliced and normalized X_extra and y_extra!\")"
   ]
  },
  {
   "cell_type": "code",
   "execution_count": null,
   "id": "c7eea4c0",
   "metadata": {},
   "outputs": [],
   "source": [
    "# Spitting training sets: 80% training, 20% validation\n",
    "X_train_split, X_val_split, y_train_split, y_val_split = train_test_split(X_train, y_train, test_size = 0.2, stratify = y_train, random_state = 42)"
   ]
  },
  {
   "cell_type": "code",
   "execution_count": null,
   "id": "a0a5228c",
   "metadata": {},
   "outputs": [],
   "source": [
    "y_train_cat = to_categorical(y_train_split,num_classes = 10)\n",
    "y_val_cat = to_categorical(y_val_split, num_classes = 10)"
   ]
  },
  {
   "cell_type": "code",
   "execution_count": null,
   "id": "844f679b",
   "metadata": {},
   "outputs": [],
   "source": [
    "X_train_split = X_train_split[:10000]\n",
    "y_train_cat = y_train_cat[:10000]\n",
    "X_val_split = X_val_split[:2000]\n",
    "y_val_cat = y_val_cat[:2000]"
   ]
  },
  {
   "cell_type": "code",
   "execution_count": null,
   "id": "d4b579e2",
   "metadata": {},
   "outputs": [],
   "source": [
    "# Printing Shapes\n",
    "print(\"Train set shape:\", X_train_split.shape, y_train_split.shape)\n",
    "print(\"Validation set shape:\", X_val_split.shape, y_val_split.shape)\n",
    "print(\"Testing set shape:\", X_test.shape, y_test.shape)"
   ]
  },
  {
   "cell_type": "code",
   "execution_count": null,
   "id": "0b33a490",
   "metadata": {},
   "outputs": [],
   "source": [
    "# Visulising some samples \n",
    "plt.figure(figsize=(12,3), dpi= 120)\n",
    "\n",
    "for i in range(5):\n",
    "    plt.subplot(1, 5, i + 1)\n",
    "    plt.imshow(X_train_split[i], interpolation='nearest')\n",
    "    plt.title(f\"Label:{y_train_split[i]}\", fontsize = 10)\n",
    "    plt.axis('on')\n",
    "\n",
    "plt.suptitle(\"Sample SVHN Training Images\", fontsize = 14)\n",
    "plt.tight_layout()\n",
    "plt.show()\n",
    "    "
   ]
  },
  {
   "cell_type": "markdown",
   "id": "d2c6af63",
   "metadata": {},
   "source": [
    "##### Brief Explaination of the labels above the images\n",
    " The SVHN Dataset is trained to identify the correct centered number/digit rather than reading the entire sequence. This allows the model to foucs on one digit at a time and reflects real-world structure. \n",
    "\n",
    " for example:\n",
    "\n",
    " **- Image is showing \"157\" it maybe labled as '1', this is because the center digit is '1'**\n",
    "\n",
    " **- An image labled as \"49\" maybe labled as '9', this is if '9' is the central digit.**\n",
    "\n",
    " Each SVHM image is labled with a single digit, even though the image may display multiple digits e.g. the label corrosponds to the **digit that is centered or most prominat throughout the image**."
   ]
  },
  {
   "cell_type": "markdown",
   "id": "ed550331",
   "metadata": {},
   "source": [
    "# Step - (3): Training of the CNN Model\n",
    "\n",
    "In this step a CNN (convolutional nueral network) will be built and trained using preprocessed training and validation sets. The model is designed to calsify digits (0-9) from 32x32 RGB images using severl convolutional and pooling layers followed by dense layers. The training history will be plotted to allow for visulization of the learning progress and identify overfitting or underfitting.\n"
   ]
  },
  {
   "cell_type": "code",
   "execution_count": null,
   "id": "df7e48be",
   "metadata": {},
   "outputs": [],
   "source": [
    "from tensorflow.keras.utils import to_categorical\n",
    "\n",
    "\n",
    "y_train_cat = to_categorical(y_train_split, num_classes = 10)\n",
    "y_val_cat = to_categorical(y_val_split, num_classes = 10)"
   ]
  },
  {
   "cell_type": "code",
   "execution_count": null,
   "id": "bf4bbe9a",
   "metadata": {},
   "outputs": [],
   "source": [
    "from tensorflow.keras.models import Sequential\n",
    "from tensorflow.keras.layers import Conv2D, MaxPooling2D, Flatten, Dense, Dropout\n",
    "\n",
    "model = Sequential([\n",
    "    Conv2D(32, (3, 3), activation = 'relu', input_shape = (32, 32, 3)),\n",
    "    MaxPooling2D((2, 2)),\n",
    "    Conv2D(64, (3, 3), activation = 'relu'),\n",
    "    MaxPooling2D((2, 2)),\n",
    "    Flatten(),\n",
    "    Dense(128, activation = 'relu'),\n",
    "    Dropout(0.5),\n",
    "    Dense(10, activation = 'softmax')\n",
    "])"
   ]
  },
  {
   "cell_type": "code",
   "execution_count": null,
   "id": "938c3fef",
   "metadata": {},
   "outputs": [],
   "source": [
    "X_train_split = X_train_split[:10000]\n",
    "y_train_cat = y_train_cat[:10000]\n",
    "\n",
    "X_val_split = X_val_split[:2000]\n",
    "y_val_cat = y_val_cat[:2000]"
   ]
  },
  {
   "cell_type": "code",
   "execution_count": null,
   "id": "6c0b9a43",
   "metadata": {},
   "outputs": [],
   "source": [
    "model.compile(optimizer = 'adam', loss = 'categorical_crossentropy', metrics = ['accuracy'])\n",
    "\n",
    "history = model.fit(\n",
    "    X_train_split, y_train_cat,\n",
    "    validation_data = (X_val_split, y_val_cat),\n",
    "    epochs = 5,\n",
    "    batch_size = 64\n",
    ")"
   ]
  },
  {
   "cell_type": "code",
   "execution_count": null,
   "id": "a5ae360b",
   "metadata": {},
   "outputs": [],
   "source": [
    "import matplotlib.pyplot as plt\n",
    "\n",
    "plt.figure(figsize = (12, 4))\n",
    "\n",
    "plt.subplot(1, 2, 1)\n",
    "plt.plot(history.history['accuracy'], label = 'Train Accuracy')\n",
    "plt.plot(history.history['val_accuracy'], label = 'Validation Accuracy')\n",
    "plt.title('Model Accuracy')\n",
    "plt.xlabel('Epoch')\n",
    "plt.ylabel('Accuracy')\n",
    "plt.legend()\n",
    "plt.grid('on')\n",
    "\n",
    "plt.subplot(1, 2, 2)\n",
    "plt.plot(history.history['loss'], label = 'Train Loss')\n",
    "plt.plot(history.history['val_loss'], label = 'Validation Loss')\n",
    "plt.title('Model Loss')\n",
    "plt.xlabel('Epoch')\n",
    "plt.ylabel('Loss')\n",
    "plt.legend()\n",
    "\n",
    "plt.tight_layout()\n",
    "plt.grid('on')\n",
    "plt.show()\n"
   ]
  },
  {
   "cell_type": "markdown",
   "id": "5a60359a",
   "metadata": {},
   "source": [
    "# Step - (4): Evaluation of the Trained CNN model\n",
    "\n",
    "to evaluate the current performance of the trained model, a classification report and confusion matrix will be used.\n",
    "These will provide insights into how well the model distinguishes between digit classes.\n",
    "The predictions are made based on the validation dataset (used a proxy for unseen data tests carried out)\n"
   ]
  },
  {
   "cell_type": "code",
   "execution_count": null,
   "id": "ba3aedfd",
   "metadata": {},
   "outputs": [],
   "source": [
    "from sklearn.metrics import classification_report, confusion_matrix\n",
    "import seaborn as sns\n",
    "import matplotlib.pyplot as plt "
   ]
  },
  {
   "cell_type": "code",
   "execution_count": null,
   "id": "fed20f63",
   "metadata": {},
   "outputs": [],
   "source": [
    "y_val_true = np.argmax(y_val_cat, axis = 1)\n",
    "\n",
    "y_val_pred = np.argmax(y_val_cat, axis = 1)"
   ]
  },
  {
   "cell_type": "code",
   "execution_count": null,
   "id": "16ae6934",
   "metadata": {},
   "outputs": [],
   "source": [
    "print(\"Classification Report:\")\n",
    "print(classification_report(y_val_true, y_val_pred))"
   ]
  },
  {
   "cell_type": "code",
   "execution_count": null,
   "id": "f242da97",
   "metadata": {},
   "outputs": [],
   "source": [
    "cm = confusion_matrix(y_val_true, y_val_pred)\n",
    "\n",
    "plt.figure(figsize = (8, 6))\n",
    "sns.heatmap(cm, annot = True, fmt = 'd', cmap = 'Blues', xticklabels= range(10), yticklabels= range(10))\n",
    "plt.xlabel('Predicted')\n",
    "plt.ylabel('True')\n",
    "plt.title('Confusion Matrix')\n",
    "plt.show()\n"
   ]
  },
  {
   "cell_type": "code",
   "execution_count": null,
   "id": "9c1f5904",
   "metadata": {},
   "outputs": [],
   "source": []
  }
 ],
 "metadata": {
  "kernelspec": {
   "display_name": "Python 3",
   "language": "python",
   "name": "python3"
  },
  "language_info": {
   "codemirror_mode": {
    "name": "ipython",
    "version": 3
   },
   "file_extension": ".py",
   "mimetype": "text/x-python",
   "name": "python",
   "nbconvert_exporter": "python",
   "pygments_lexer": "ipython3",
   "version": "3.12.1"
  }
 },
 "nbformat": 4,
 "nbformat_minor": 5
}
