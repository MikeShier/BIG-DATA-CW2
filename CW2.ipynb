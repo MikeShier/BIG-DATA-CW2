{
 "cells": [
  {
   "cell_type": "markdown",
   "id": "6d2907f4",
   "metadata": {},
   "source": [
    "# BIG DATA CW2 - SVHN Digit Classification Using a CNN \n",
    "---\n",
    "**student ID'S**: Mike Shier **(UP2127137)**, Jack Elliott **(UP2119254)** and \n",
    "\n",
    "**Dataset**: SVHN (Street View House Numbers)\n",
    "\n",
    "**Main Objectives**: Classifing digits from (0-9) from a 32 x 32RGB image using a loaded CNN Model. \n",
    "\n",
    "---"
   ]
  },
  {
   "cell_type": "markdown",
   "id": "8ac605c5",
   "metadata": {},
   "source": [
    " ## Step - (1): Data Collection Downloaded from Urls on the SVHN Website\n",
    "\n",
    " Using the SVHN dataset the .mat files for training and testing were correctly downloaded, the files being curently in MATLAB format hence the (.mat). Files are only being downloaded once to save time and bandwidth, \n",
    " the files contain over 600,000 labled 32x32 pixle RGB images of digits 0-9 provided on Google Streetview."
   ]
  },
  {
   "cell_type": "code",
   "execution_count": 1,
   "id": "77903dc8",
   "metadata": {},
   "outputs": [],
   "source": [
    "import os\n",
    "import urllib.request"
   ]
  },
  {
   "cell_type": "code",
   "execution_count": 2,
   "id": "a1b6e79e",
   "metadata": {},
   "outputs": [],
   "source": [
    "# Creating a folder for the data to be handled\n",
    "os.makedirs(\"data\", exist_ok= True)"
   ]
  },
  {
   "cell_type": "code",
   "execution_count": 3,
   "id": "a676c70e",
   "metadata": {},
   "outputs": [],
   "source": [
    "# Defining the URLs for training and testing the data\n",
    "urls = {\n",
    "    \"train\":\"http://ufldl.stanford.edu/housenumbers/train_32x32.mat\",\n",
    "    \"test\":\"http://ufldl.stanford.edu/housenumbers/test_32x32.mat\"\n",
    "}"
   ]
  },
  {
   "cell_type": "code",
   "execution_count": 4,
   "id": "56df11de",
   "metadata": {},
   "outputs": [
    {
     "name": "stdout",
     "output_type": "stream",
     "text": [
      "downloading traindata...\n",
      "Traindata download sucessfully.\n",
      "downloading testdata...\n",
      "Testdata download sucessfully.\n"
     ]
    }
   ],
   "source": [
    "# Downloading functions\n",
    "def download_svhn():\n",
    "    for name, url in urls.items():\n",
    "        filepath = f\"data/{name}_32x32.mat\"\n",
    "        if not os.path.exists(filepath):\n",
    "            print(f\"downloading {name}data...\")\n",
    "            urllib.request.urlretrieve(url,filepath)\n",
    "            print(f\"{name.capitalize()}data download sucessfully.\")\n",
    "        else:\n",
    "            print(f\"{name.capitalize()} data already exists.\")\n",
    "\n",
    "download_svhn()\n",
    "\n"
   ]
  },
  {
   "cell_type": "markdown",
   "id": "349eda99",
   "metadata": {},
   "source": [
    "# Step - (2): Preprocess the SVHN Dataset\n",
    "\n",
    "This loads the .mat files downloaded in step 1 and converts the data presented into the correct format, normalizing the pixel values to [0, 1], fixing the label format to (10-0), and correctly splits the training set into 80% training and 20% validation using satisfied sampeling.  \n",
    " "
   ]
  },
  {
   "cell_type": "code",
   "execution_count": 10,
   "id": "88b5910f",
   "metadata": {},
   "outputs": [],
   "source": [
    "import scipy.io\n",
    "import numpy as np\n",
    "from sklearn.model_selection import train_test_split\n",
    "import matplotlib.pyplot as plt"
   ]
  },
  {
   "cell_type": "code",
   "execution_count": 11,
   "id": "e596dd62",
   "metadata": {},
   "outputs": [],
   "source": [
    "# Loading the data \n",
    "train_data = scipy.io.loadmat(\"data/train_32x32.mat\")\n",
    "test_data = scipy.io.loadmat(\"data/test_32x32.mat\")"
   ]
  },
  {
   "cell_type": "code",
   "execution_count": 12,
   "id": "99edf7fe",
   "metadata": {},
   "outputs": [],
   "source": [
    "# Transposing image arrays to the correct shape: e.g.(32,32,3)\n",
    "X_train = np.transpose(train_data['X'], (3, 0, 1, 2))\n",
    "y_train = train_data['y'].flatten()\n",
    "\n",
    "\n",
    "X_test = np.transpose(test_data['X'], (3, 0, 1, 2))\n",
    "y_test = train_data['y'].flatten()\n"
   ]
  },
  {
   "cell_type": "code",
   "execution_count": 13,
   "id": "864936a2",
   "metadata": {},
   "outputs": [],
   "source": [
    "# Replace Label '10' with '0'\n",
    "y_train[y_train == 10] = 0\n",
    "y_test[y_test == 10] = 0"
   ]
  },
  {
   "cell_type": "code",
   "execution_count": 14,
   "id": "10a3898e",
   "metadata": {},
   "outputs": [],
   "source": [
    "X_train = X_train.astype('float32') / 255.0\n",
    "X_test = X_test.astype('float32') / 255.0"
   ]
  },
  {
   "cell_type": "code",
   "execution_count": 15,
   "id": "c7eea4c0",
   "metadata": {},
   "outputs": [],
   "source": [
    "# Spitting training sets: 80% training, 20% validation\n",
    "X_train_split, X_val_split, y_train_split, y_val_split = train_test_split(X_train, y_train, test_size = 0.2, stratify = y_train, random_state = 42)"
   ]
  },
  {
   "cell_type": "code",
   "execution_count": 16,
   "id": "d4b579e2",
   "metadata": {},
   "outputs": [
    {
     "name": "stdout",
     "output_type": "stream",
     "text": [
      "Train set shape: (58605, 32, 32, 3) (58605,)\n",
      "Validation set shape: (14652, 32, 32, 3) (14652,)\n",
      "Testing set shape: (26032, 32, 32, 3) (73257,)\n"
     ]
    }
   ],
   "source": [
    "# Printing Shapes\n",
    "print(\"Train set shape:\", X_train_split.shape, y_train_split.shape)\n",
    "print(\"Validation set shape:\", X_val_split.shape, y_val_split.shape)\n",
    "print(\"Testing set shape:\", X_test.shape, y_test.shape)"
   ]
  },
  {
   "cell_type": "code",
   "execution_count": 21,
   "id": "0b33a490",
   "metadata": {},
   "outputs": [
    {
     "data": {
      "image/png": "[encoded data removed]",
      "text/plain": [
       "<Figure size 1440x360 with 5 Axes>"
      ]
     },
     "metadata": {},
     "output_type": "display_data"
    }
   ],
   "source": [
    "# Visulising some samples \n",
    "plt.figure(figsize=(12,3), dpi= 120)\n",
    "\n",
    "for i in range(5):\n",
    "    plt.subplot(1, 5, i + 1)\n",
    "    plt.imshow(X_train_split[i], interpolation='nearest')\n",
    "    plt.title(f\"Label:{y_train_split[i]}\", fontsize = 10)\n",
    "    plt.axis('off')\n",
    "\n",
    "plt.suptitle(\"Sample SVHN Training Images\", fontsize = 14)\n",
    "plt.tight_layout()\n",
    "plt.show()\n",
    "    "
   ]
  },
  {
   "cell_type": "markdown",
   "id": "d2c6af63",
   "metadata": {},
   "source": [
    "##### Brief Explaination of the labels above the images\n",
    " Label variation is differnt due to the centering of the numbers (labels match one digit per image) e.g. an image may show 157 but the label is 1, this because the digit is centered/cropped on. another digit may show 49 and label 9, this is because the model should lean to detect that center digit. "
   ]
  },
  {
   "cell_type": "code",
   "execution_count": null,
   "id": "1d46a40f",
   "metadata": {},
   "outputs": [],
   "source": []
  }
 ],
 "metadata": {
  "kernelspec": {
   "display_name": "Python 3",
   "language": "python",
   "name": "python3"
  },
  "language_info": {
   "codemirror_mode": {
    "name": "ipython",
    "version": 3
   },
   "file_extension": ".py",
   "mimetype": "text/x-python",
   "name": "python",
   "nbconvert_exporter": "python",
   "pygments_lexer": "ipython3",
   "version": "3.12.1"
  }
 },
 "nbformat": 4,
 "nbformat_minor": 5
}
